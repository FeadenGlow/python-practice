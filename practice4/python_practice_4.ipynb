{
 "cells": [
  {
   "cell_type": "markdown",
   "metadata": {
    "id": "kXpppdVm6wFy"
   },
   "source": [
    "# I. Functions. Arguments."
   ]
  },
  {
   "cell_type": "markdown",
   "metadata": {
    "id": "u_krJdlbAkVz"
   },
   "source": [
    "1. (5б) Назвіть основні 4 смислові  частини, з яких складається функція."
   ]
  },
  {
   "cell_type": "markdown",
   "metadata": {
    "id": "KKTrTXmHAptb"
   },
   "source": [
    "Ім'я, аргументи, тіло, результат функції"
   ]
  },
  {
   "cell_type": "markdown",
   "metadata": {
    "id": "ORM4PqJQAtDM"
   },
   "source": [
    "2. (3б) Визначте функцію, що приймає 2 аргументи та повертає результат ділення 1го аргумента на інший."
   ]
  },
  {
   "cell_type": "code",
   "execution_count": 7,
   "metadata": {
    "ExecuteTime": {
     "end_time": "2025-03-01T20:38:43.431010Z",
     "start_time": "2025-03-01T20:38:43.428235Z"
    },
    "id": "EuDx-z8M6sLo"
   },
   "outputs": [],
   "source": [
    "def function (a, b):\n",
    "    return a / b"
   ]
  },
  {
   "cell_type": "markdown",
   "metadata": {
    "id": "5joQGQ-SAyMe"
   },
   "source": [
    "3. (2б) Викличте вище визначену функцію, де другий аргумент дорівнює 0."
   ]
  },
  {
   "cell_type": "code",
   "execution_count": null,
   "metadata": {
    "ExecuteTime": {
     "end_time": "2025-03-01T20:38:53.438678Z",
     "start_time": "2025-03-01T20:38:53.421184Z"
    },
    "id": "V5cBV1LOA3d-"
   },
   "outputs": [
    {
     "ename": "ZeroDivisionError",
     "evalue": "division by zero",
     "output_type": "error",
     "traceback": [
      "\u001b[1;31m---------------------------------------------------------------------------\u001b[0m",
      "\u001b[1;31mZeroDivisionError\u001b[0m                         Traceback (most recent call last)",
      "Cell \u001b[1;32mIn[9], line 1\u001b[0m\n\u001b[1;32m----> 1\u001b[0m \u001b[43mfunction\u001b[49m\u001b[43m(\u001b[49m\u001b[38;5;241;43m5\u001b[39;49m\u001b[43m,\u001b[49m\u001b[43m \u001b[49m\u001b[38;5;241;43m0\u001b[39;49m\u001b[43m)\u001b[49m\n",
      "Cell \u001b[1;32mIn[7], line 2\u001b[0m, in \u001b[0;36mfunction\u001b[1;34m(a, b)\u001b[0m\n\u001b[0;32m      1\u001b[0m \u001b[38;5;28;01mdef\u001b[39;00m\u001b[38;5;250m \u001b[39m\u001b[38;5;21mfunction\u001b[39m (a, b):\n\u001b[1;32m----> 2\u001b[0m     \u001b[38;5;28;01mreturn\u001b[39;00m \u001b[43ma\u001b[49m\u001b[43m \u001b[49m\u001b[38;5;241;43m/\u001b[39;49m\u001b[43m \u001b[49m\u001b[43mb\u001b[49m\n",
      "\u001b[1;31mZeroDivisionError\u001b[0m: division by zero"
     ]
    }
   ],
   "source": [
    "function(5, 0)"
   ]
  },
  {
   "cell_type": "markdown",
   "metadata": {
    "id": "QyimWgW8A43-"
   },
   "source": [
    "4. (4б) Перевизначте функцію так, щоби у випадку ділення на 0 функція повертала None, а в решті випадків - результат розрахунків."
   ]
  },
  {
   "cell_type": "code",
   "execution_count": 1,
   "metadata": {
    "ExecuteTime": {
     "end_time": "2025-03-01T20:39:19.550833Z",
     "start_time": "2025-03-01T20:39:19.547424Z"
    },
    "id": "7VIODtSjA8Ek"
   },
   "outputs": [
    {
     "name": "stdout",
     "output_type": "stream",
     "text": [
      "None\n"
     ]
    }
   ],
   "source": [
    "def function (a, b):\n",
    "    if b == 0:\n",
    "        return None\n",
    "    else:\n",
    "        return a / b\n",
    "\n",
    "print(function(5, 0))"
   ]
  },
  {
   "cell_type": "markdown",
   "metadata": {
    "id": "Y8mN0GfkA81l"
   },
   "source": [
    "5. (5б) Визначте функцію, що віднімає одне число від іншого (підказка: це буде 2 аргументи функції). При чому, якщо не визначити, скільки саме має бути віднято від числа, за замовчуванням має відніматися 1. Викличте функцію, передаючи тільки один аргумент."
   ]
  },
  {
   "cell_type": "code",
   "execution_count": 3,
   "metadata": {
    "ExecuteTime": {
     "end_time": "2025-03-01T20:40:57.130063Z",
     "start_time": "2025-03-01T20:40:57.125401Z"
    },
    "id": "vg1kxkdgBA50"
   },
   "outputs": [
    {
     "name": "stdout",
     "output_type": "stream",
     "text": [
      "4\n"
     ]
    }
   ],
   "source": [
    "def function (a, b = 1):\n",
    "    return a - b\n",
    "\n",
    "print(function(5))"
   ]
  },
  {
   "cell_type": "markdown",
   "metadata": {
    "id": "D3mwQGNOBBs4"
   },
   "source": [
    "6. (7б) Визначте функцію, яка приймає iterable (ітерабельний обʼєкт, напр. список), що складається з 7ми рядкових значень - назв погодних умов (напр. \"sunny\") за кожен день у тижні. Повертає функція словник, де ключами є рядки з погодними умовами, а значеннями - кількість разів, скільки дана погода була протягом тижня (напр. {'sunny': 1, ...}). Викличте цю функцію та виведіть результат її роботи на екран."
   ]
  },
  {
   "cell_type": "code",
   "execution_count": 14,
   "metadata": {
    "ExecuteTime": {
     "end_time": "2025-03-01T20:43:10.222359Z",
     "start_time": "2025-03-01T20:43:10.218267Z"
    },
    "id": "OsWm-hKcBFyn"
   },
   "outputs": [
    {
     "name": "stdout",
     "output_type": "stream",
     "text": [
      "{'sunny': 4, 'rainy': 3}\n"
     ]
    }
   ],
   "source": [
    "def function (iterable):\n",
    "    dict_count = {}\n",
    "    for i in iterable:\n",
    "        if i in dict_count:\n",
    "            dict_count[i] += 1\n",
    "        else:\n",
    "            dict_count[i] = 1\n",
    "    return dict_count\n",
    "\n",
    "print(function(['sunny', 'sunny', 'sunny', 'rainy', 'rainy', 'sunny', 'rainy']))"
   ]
  },
  {
   "cell_type": "markdown",
   "metadata": {
    "id": "RMiCcdOsBKQT"
   },
   "source": [
    "7. (15б) Напишіть програму, яка б шукала необхідне число у впорядкованому списку цілочислених значень, де\n",
    "число має вводитись з консолі.\n",
    "власне алгоритм пошуку винесений в окрему функцію, яка повертає булеве значення (знайдено число - True, не знайдено - False).\n",
    "в залежності від результату функції, виведіть на екран повідомлення про успішний або ж неуспішний пошук.\n",
    "Зауваження: використовувати оператор in заборонено."
   ]
  },
  {
   "cell_type": "code",
   "execution_count": 18,
   "metadata": {
    "ExecuteTime": {
     "end_time": "2025-03-01T20:45:04.553010Z",
     "start_time": "2025-03-01T20:45:01.547856Z"
    },
    "id": "UNCZg65OBOy-"
   },
   "outputs": [
    {
     "name": "stdout",
     "output_type": "stream",
     "text": [
      "True\n"
     ]
    }
   ],
   "source": [
    "def search (number, arr):\n",
    "    for i in arr:\n",
    "        if i == number:\n",
    "            return True\n",
    "    return False\n",
    "\n",
    "numbers = [1, 2, 3, 4, 5, 6, 7, 8, 9, 10]\n",
    "number = int(input(\"Enter the number: \"))\n",
    "print(search(number, numbers))"
   ]
  },
  {
   "cell_type": "markdown",
   "metadata": {
    "id": "Ae1n_OvLBTsy"
   },
   "source": [
    "# II. Lambda functions."
   ]
  },
  {
   "cell_type": "markdown",
   "metadata": {
    "id": "xaD_wSlaCWen"
   },
   "source": [
    "## 8. (4б) В яких випадках варто використовувати лямбда-функції?"
   ]
  },
  {
   "cell_type": "markdown",
   "metadata": {
    "id": "42MB6OoLCakR"
   },
   "source": [
    "Варто використовувати, коли легкі однорядкові функції, передача функції як аргумент"
   ]
  },
  {
   "cell_type": "markdown",
   "metadata": {
    "id": "USrzrk7GCedk"
   },
   "source": [
    "9. (9б) Визначте список з рядками. Після цього визначте анонімну функцію для отримання першого символу у верхньому регістрі для кожного рядка списку.\n",
    "Підказка: використовуйте анонімну функцію в якості агрумента до вбудованої ф-ції, яка створена для застосування функцій над iterable обʼєктами. Результат виведіть на екран у вигляді кортежу."
   ]
  },
  {
   "cell_type": "code",
   "execution_count": 39,
   "metadata": {
    "ExecuteTime": {
     "end_time": "2025-03-01T20:52:05.138631Z",
     "start_time": "2025-03-01T20:52:05.135359Z"
    },
    "id": "M8QWUsMlCjWH"
   },
   "outputs": [
    {
     "name": "stdout",
     "output_type": "stream",
     "text": [
      "('H', 'M', 'N')\n"
     ]
    }
   ],
   "source": [
    "arr = ['hello', 'my', 'name']\n",
    "result = tuple(map(lambda x: x[0].upper(), arr))\n",
    "print(result)"
   ]
  },
  {
   "cell_type": "markdown",
   "metadata": {
    "id": "9fyUhXOoCtGp"
   },
   "source": [
    "10. (10б) Визначте список з числовими значеннями (і цілими, і з рухомою комою). а) Відфільтруйте всі числа, які діляться націло на 3 за допомогою вбудованої функції та анонімної функції в якості аргумента). Збережіть результат у змінній, не приводяти явно до будь-якого типу. б) Використовуючи результат на кроці 12.а у якості аргументу, та за допомогою лямбда-функції в якості іншого аргументу до вбудованої функції, додайте до кожного елементу число 1 та опісля зведіть у квадрат. Остаточний результат приведіть явно до списку та виведіть на екран."
   ]
  },
  {
   "cell_type": "code",
   "execution_count": 35,
   "metadata": {
    "ExecuteTime": {
     "end_time": "2025-03-01T20:57:45.323002Z",
     "start_time": "2025-03-01T20:57:45.318383Z"
    },
    "id": "exEx2_okCsql"
   },
   "outputs": [
    {
     "name": "stdout",
     "output_type": "stream",
     "text": [
      "[100, 484, 1156]\n"
     ]
    }
   ],
   "source": [
    "\n",
    "numbers = [9, 3.8, 21, 2.1, 33]\n",
    "\n",
    "filtered = filter(lambda x: x % 3 == 0, numbers)\n",
    "\n",
    "result = list(map(lambda x: (x + 1) ** 2, filtered))\n",
    "\n",
    "print(result)\n"
   ]
  },
  {
   "cell_type": "markdown",
   "metadata": {
    "id": "o_x8cG_WC7jp"
   },
   "source": [
    "# III. Decorators."
   ]
  },
  {
   "cell_type": "markdown",
   "metadata": {
    "id": "mhxS4-mfC8LQ"
   },
   "source": [
    "11. (11б) Визначте декоратор, який би виводив у консоль повідомлення про початок роботи і назву функції (напр. my_function._ _ name _ _), а після відпрацювання функції - повідомлення про закінчення роботи і назву функції, що задекорована."
   ]
  },
  {
   "cell_type": "code",
   "execution_count": 38,
   "metadata": {
    "ExecuteTime": {
     "end_time": "2025-03-01T21:02:24.602113Z",
     "start_time": "2025-03-01T21:02:24.596550Z"
    },
    "id": "srd1ygWjDGhO"
   },
   "outputs": [
    {
     "name": "stdout",
     "output_type": "stream",
     "text": [
      "Start of hello\n",
      "Hello!\n",
      "End of hello\n"
     ]
    }
   ],
   "source": [
    "def decorator(func):\n",
    "    def wrapper(*args, **kwargs):\n",
    "        print(f\"Start of {func.__name__}\")\n",
    "        result = func(*args, **kwargs)\n",
    "        print(f\"End of {func.__name__}\")\n",
    "        return result\n",
    "    return wrapper\n",
    "\n",
    "@decorator\n",
    "def hello():\n",
    "    print(\"Hello!\")\n",
    "\n",
    "hello()\n"
   ]
  },
  {
   "cell_type": "markdown",
   "metadata": {
    "id": "rxGZwVBiDph3"
   },
   "source": [
    "12. (4б) Задекоруйте двома різними способами функції з завдання 4 та 5 декоратором із завдання 11. (**УВАГА**: не декоруйте функції двічі!)."
   ]
  },
  {
   "cell_type": "code",
   "execution_count": 37,
   "metadata": {
    "ExecuteTime": {
     "end_time": "2025-03-01T21:06:06.306939Z",
     "start_time": "2025-03-01T21:06:06.301544Z"
    },
    "id": "06lj7eq_DwZe"
   },
   "outputs": [
    {
     "name": "stdout",
     "output_type": "stream",
     "text": [
      "Start of function\n",
      "End of function\n",
      "5.0\n",
      "Start of function\n",
      "End of function\n",
      "None\n",
      "Start of function2\n",
      "End of function2\n",
      "7\n",
      "Start of function2\n",
      "End of function2\n",
      "4\n"
     ]
    }
   ],
   "source": [
    "def decorator(func):\n",
    "    def wrapper(*args, **kwargs):\n",
    "        print(f\"Start of {func.__name__}\")\n",
    "        result = func(*args, **kwargs)\n",
    "        print(f\"End of {func.__name__}\")\n",
    "        return result\n",
    "    return wrapper\n",
    "\n",
    "# 1 спосіб\n",
    "@decorator\n",
    "def function(a, b):\n",
    "    if b == 0:\n",
    "        return None\n",
    "    return a / b\n",
    "\n",
    "\n",
    "print(function(10, 2))\n",
    "print(function(5, 0))\n",
    "\n",
    "def function2(a, b=1):\n",
    "    return a - b\n",
    "\n",
    "# 2 спосіб\n",
    "decorated = decorator(function2)\n",
    "\n",
    "print(decorated(10, 3))\n",
    "print(decorated(5))\n"
   ]
  },
  {
   "cell_type": "markdown",
   "metadata": {
    "id": "P0ep1urBDzf-"
   },
   "source": [
    "13. (2б) Викличте одну з задекорованих функцій і виведіть її результат на екран."
   ]
  },
  {
   "cell_type": "code",
   "execution_count": 43,
   "metadata": {
    "ExecuteTime": {
     "end_time": "2025-03-01T21:11:56.656684Z",
     "start_time": "2025-03-01T21:11:56.650846Z"
    },
    "id": "1QvTw0ctD0S3"
   },
   "outputs": [
    {
     "name": "stdout",
     "output_type": "stream",
     "text": [
      "Start of function\n",
      "End of function\n",
      "5.0\n",
      "Start of function\n",
      "End of function\n",
      "None\n"
     ]
    }
   ],
   "source": [
    "def decorator(func):\n",
    "    def wrapper(*args, **kwargs):\n",
    "        print(f\"Start of {func.__name__}\")\n",
    "        result = func(*args, **kwargs)\n",
    "        print(f\"End of {func.__name__}\")\n",
    "        return result\n",
    "    return wrapper\n",
    "\n",
    "@decorator\n",
    "def function(a, b):\n",
    "    if b == 0:\n",
    "        return None\n",
    "    return a / b\n",
    "\n",
    "print(function(10, 2))\n",
    "print(function(5, 0))\n"
   ]
  },
  {
   "cell_type": "markdown",
   "metadata": {
    "id": "poECCpuoD2S9"
   },
   "source": [
    "# IV. Recursion."
   ]
  },
  {
   "cell_type": "markdown",
   "metadata": {
    "id": "DqkURfdsD7MY"
   },
   "source": [
    "14. (4б) Назвіть дві частини функції, які є обовʼязковими для того, щоб називати її рекурсивною."
   ]
  },
  {
   "cell_type": "markdown",
   "metadata": {
    "id": "HYW6ttIeIQIU"
   },
   "source": [
    "Базовий випадок, рекурсивний виклик"
   ]
  },
  {
   "cell_type": "markdown",
   "metadata": {
    "id": "WYVt20UmEA35"
   },
   "source": [
    "15. (15б) Визначте функцію, яка рекурсивно реалізовує пошук числа у послідовності Фібоначчі за її індексом (нумерація починається з нуля). Наприклад, потрібно знайти перше число у послідовності, тоді функція прийматиме 0 у якості аргумента і повертатиме 1, якщо ж знаходити третє число (індекс 2) послідовності, то функція повертатиме 2, якщо ж знаходити десяте число (індекс 9), то функція повертатиме 55."
   ]
  },
  {
   "cell_type": "code",
   "execution_count": 41,
   "metadata": {
    "ExecuteTime": {
     "end_time": "2025-03-18T12:37:03.869049Z",
     "start_time": "2025-03-18T12:37:03.863661Z"
    },
    "id": "xIMhp05AIpV_"
   },
   "outputs": [
    {
     "name": "stdout",
     "output_type": "stream",
     "text": [
      "55\n"
     ]
    }
   ],
   "source": [
    "def fibonacci(n):\n",
    "    if n <= 1:\n",
    "        return n\n",
    "    else:\n",
    "        return fibonacci(n - 1) + fibonacci(n - 2)\n",
    "\n",
    "print(fibonacci(10))"
   ]
  },
  {
   "cell_type": "markdown",
   "metadata": {
    "id": "ytXC8n_4Ip0W"
   },
   "source": [
    "# Вітаю! Ви велика(ий) молодець, що впоралась(вся). Похваліть себе та побалуйте чимось приємним. Я Вами пишаюся."
   ]
  },
  {
   "cell_type": "markdown",
   "metadata": {},
   "source": [
    "🥰"
   ]
  }
 ],
 "metadata": {
  "colab": {
   "provenance": []
  },
  "kernelspec": {
   "display_name": "Python 3",
   "language": "python",
   "name": "python3"
  },
  "language_info": {
   "codemirror_mode": {
    "name": "ipython",
    "version": 3
   },
   "file_extension": ".py",
   "mimetype": "text/x-python",
   "name": "python",
   "nbconvert_exporter": "python",
   "pygments_lexer": "ipython3",
   "version": "3.13.2"
  }
 },
 "nbformat": 4,
 "nbformat_minor": 0
}
