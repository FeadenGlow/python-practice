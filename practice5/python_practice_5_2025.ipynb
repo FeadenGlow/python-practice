{
 "cells": [
  {
   "cell_type": "markdown",
   "metadata": {
    "id": "5qV_sehzFCTp"
   },
   "source": [
    "# I. OOP"
   ]
  },
  {
   "cell_type": "markdown",
   "metadata": {
    "id": "tx_U_hOALyfg"
   },
   "source": [
    "1. (6б). Створіть клас Building, додайте три атрибути, один з яких має значення за замовчуванням та два методи на свій розсуд."
   ]
  },
  {
   "cell_type": "code",
   "execution_count": 3,
   "metadata": {
    "ExecuteTime": {
     "end_time": "2025-03-18T13:27:58.115954Z",
     "start_time": "2025-03-18T13:27:58.110058Z"
    },
    "id": "-Vf895KaL88N"
   },
   "outputs": [],
   "source": [
    "class Building:\n",
    "    def __init__(self, name, floors = 1, address = ''):\n",
    "        self.name = name\n",
    "        self.floors = floors\n",
    "        self.address = address\n",
    "    def getFloors(self):\n",
    "        return self.floors\n",
    "    def getAddress(self):\n",
    "        return self.address"
   ]
  },
  {
   "cell_type": "markdown",
   "metadata": {
    "id": "X_UlOMB0L93w"
   },
   "source": [
    "2. (2б). Створіть два обʼєкти цього класу, де один з обʼєктів створюється із дефолтним значенням атрибуту. На одному обʼєкті отримайте значення його атрибуту, а на іншому викличте один з його методів."
   ]
  },
  {
   "cell_type": "code",
   "execution_count": 4,
   "metadata": {
    "ExecuteTime": {
     "end_time": "2025-03-18T13:46:08.186264Z",
     "start_time": "2025-03-18T13:46:08.181815Z"
    },
    "id": "7gBu0ESOMCpG"
   },
   "outputs": [
    {
     "name": "stdout",
     "output_type": "stream",
     "text": [
      "1\n",
      "Address\n"
     ]
    }
   ],
   "source": [
    "class Building:\n",
    "    def __init__(self, name, floors = 1, address = ''):\n",
    "        self.name = name\n",
    "        self.floors = floors\n",
    "        self.address = address\n",
    "    def getFloors(self):\n",
    "        return self.floors\n",
    "    def getAddress(self):\n",
    "        return self.address\n",
    "\n",
    "b1 = Building('Example')\n",
    "b2 = Building('Reegular House', 2, 'Address')\n",
    "print(b1.floors)\n",
    "print(b2.getAddress())"
   ]
  },
  {
   "cell_type": "markdown",
   "metadata": {
    "id": "HoqSCZt1MHn5"
   },
   "source": [
    "3. (5б). Створіть клас, де атрибути мають різні рівні доступу. Спробуйте отримати їхні значення та опишіть результати."
   ]
  },
  {
   "cell_type": "code",
   "execution_count": 7,
   "metadata": {
    "ExecuteTime": {
     "end_time": "2025-03-18T14:08:38.452104Z",
     "start_time": "2025-03-18T14:08:38.431534Z"
    },
    "id": "r9b3vJxBMSPV"
   },
   "outputs": [
    {
     "name": "stdout",
     "output_type": "stream",
     "text": [
      "12\n",
      "Oak\n",
      "4868\n",
      "4868\n"
     ]
    }
   ],
   "source": [
    "class Tree:\n",
    "    def __init__(self, years, type, leavesCount):\n",
    "        self.years = years\n",
    "        self._type = type\n",
    "        self.__leavesCount = leavesCount\n",
    "\n",
    "    def getLeaves(self):\n",
    "        return self.__leavesCount\n",
    "\n",
    "tree = Tree(12, \"Oak\", 4868)\n",
    "\n",
    "print(tree.years)\n",
    "print(tree._type)\n",
    "# print(tree.__leavesCount)  # AttributeError\n",
    "print(tree.getLeaves())\n",
    "print(tree._Tree__leavesCount)"
   ]
  },
  {
   "cell_type": "markdown",
   "metadata": {
    "id": "5op2m2vgMSkZ"
   },
   "source": [
    "4. (7б). Як ви розумієте термін self? Для чого використовується метод __init __?"
   ]
  },
  {
   "cell_type": "markdown",
   "metadata": {
    "id": "DyiPqNRvMasx"
   },
   "source": [
    "self — використовується для доступу до атрибутів і методів цього об'єкта.\n",
    "\n",
    "\\_\\_init__ — конструктор, ініціалізує атрибути об'єкта та дозволяє передавати початкові значення."
   ]
  },
  {
   "cell_type": "markdown",
   "metadata": {
    "id": "-6X8EGfjMd2y"
   },
   "source": [
    "5. (9б). Створіть клас 3D-фігура без атрибутів, з методом get_volume для отримання об'єму фігури, що повертає 0 та __add __, який приймає self та other в якості аргументів, а повертає суму об'ємів 3d-фігур self та other."
   ]
  },
  {
   "cell_type": "code",
   "execution_count": 8,
   "metadata": {
    "ExecuteTime": {
     "end_time": "2025-03-18T13:51:05.320411Z",
     "start_time": "2025-03-18T13:51:05.315720Z"
    },
    "id": "4rvO_wYUMaEr"
   },
   "outputs": [
    {
     "name": "stdout",
     "output_type": "stream",
     "text": [
      "0\n"
     ]
    }
   ],
   "source": [
    "class Figure3D:\n",
    "    def get_volume(self):\n",
    "        return 0\n",
    "    def __add__(self, other):\n",
    "        if isinstance(other, Figure3D):\n",
    "            return self.get_volume() + other.get_volume()\n",
    "        raise TypeError(\"Figure3D only\")\n",
    "\n",
    "f1 = Figure3D()\n",
    "f2 = Figure3D()\n",
    "print(f1 + f2)"
   ]
  },
  {
   "cell_type": "markdown",
   "metadata": {
    "id": "SFcKnnv5Mo_z"
   },
   "source": [
    "6. (11б). Створіть 2 дочірніх класи від 3d-фігура: Циліндр та Куб, які мають атрибути, необхідні для розрахунку об'єму. Визначте метод get_volume в кожному з них так, щоби вони розраховували об'єм у залежності від формули для кожного типу фігури. Створіть обʼєкт класу Циліндр та обʼєкт класу Куб. Виконайте операцію суми за допомогою оператора + між ними, аби знайти сумарний об'єм."
   ]
  },
  {
   "cell_type": "code",
   "execution_count": 12,
   "metadata": {
    "ExecuteTime": {
     "end_time": "2025-03-18T14:06:42.419296Z",
     "start_time": "2025-03-18T14:06:42.411194Z"
    },
    "id": "H3GVNr69Muf3"
   },
   "outputs": [
    {
     "name": "stdout",
     "output_type": "stream",
     "text": [
      "Сумарний об'єм: 456.70\n"
     ]
    }
   ],
   "source": [
    "import math\n",
    "\n",
    "class Figure3D:\n",
    "    def get_volume(self):\n",
    "        return 0\n",
    "    def __add__(self, other):\n",
    "        if isinstance(other, Figure3D):\n",
    "            return self.get_volume() + other.get_volume()\n",
    "        raise TypeError(\"Figure3D only\")\n",
    "\n",
    "class Cylinder(Figure3D):\n",
    "    def __init__(self, radius, height):\n",
    "        self.radius = radius\n",
    "        self.height = height\n",
    "\n",
    "    def get_volume(self):\n",
    "        return math.pi * self.radius**2 * self.height\n",
    "\n",
    "class Cube(Figure3D):\n",
    "    def __init__(self, side):\n",
    "        self.side = side\n",
    "\n",
    "    def get_volume(self):\n",
    "        return self.side**3\n",
    "\n",
    "cylinder = Cylinder(5, 5)\n",
    "cube = Cube(4)\n",
    "\n",
    "total_volume = cylinder + cube\n",
    "print(f\"Сумарний об'єм: {total_volume:.2f}\")\n"
   ]
  },
  {
   "cell_type": "markdown",
   "metadata": {
    "id": "HCvR206YMvLK"
   },
   "source": [
    "7. (3б). Продемонструйте різницю між isinstance та issubclass."
   ]
  },
  {
   "cell_type": "code",
   "execution_count": 13,
   "metadata": {
    "ExecuteTime": {
     "end_time": "2025-03-18T14:01:53.390853Z",
     "start_time": "2025-03-18T14:01:53.385668Z"
    },
    "id": "L_V1bBvDM0GN"
   },
   "outputs": [
    {
     "name": "stdout",
     "output_type": "stream",
     "text": [
      "True\n",
      "True\n",
      "False\n",
      "True\n",
      "False\n",
      "True\n"
     ]
    }
   ],
   "source": [
    "class Plant:\n",
    "    pass\n",
    "\n",
    "class Tree(Plant):\n",
    "    pass\n",
    "\n",
    "tree = Tree()\n",
    "\n",
    "# isinstance - перевіряє, чи є об'єкт екземпляром класу або його нащадка\n",
    "print(isinstance(tree, Tree))\n",
    "print(isinstance(tree, Plant))\n",
    "print(isinstance(tree, int))\n",
    "\n",
    "# issubclass - перевіряє, чи є один клас нащадком іншого\n",
    "print(issubclass(Tree, Plant))\n",
    "print(issubclass(Plant, Tree))\n",
    "print(issubclass(Tree, object))\n"
   ]
  },
  {
   "cell_type": "markdown",
   "metadata": {
    "id": "jjsaBZ-iM0Qq"
   },
   "source": [
    "8. (13б). Створіть клас EWallet з приватними атрибутами balance та id. Реалізуйте методи поповнення та зняття коштів, забезпечивши належну інкапсуляцію. Підказка: використовуйте декоратори property та setter."
   ]
  },
  {
   "cell_type": "code",
   "execution_count": null,
   "metadata": {
    "ExecuteTime": {
     "end_time": "2025-03-18T13:57:45.606065Z",
     "start_time": "2025-03-18T13:57:45.598493Z"
    },
    "id": "xCvZ7lh8M7YA"
   },
   "outputs": [
    {
     "name": "stdout",
     "output_type": "stream",
     "text": [
      "Balance: $1000\n",
      "Balance after deposit: $1500\n",
      "Balance after withdrawal: $1400\n"
     ]
    }
   ],
   "source": [
    "import uuid\n",
    "\n",
    "class EWallet:\n",
    "    def __init__(self, balance=0):\n",
    "        self.__balance = balance\n",
    "        self.__id = str(uuid.uuid4())\n",
    "\n",
    "    @property\n",
    "    def balance(self):\n",
    "        return self.__balance\n",
    "\n",
    "    @property\n",
    "    def id(self):\n",
    "        return self.__id\n",
    "\n",
    "    def deposit(self, amount):\n",
    "        if amount > 0:\n",
    "            self.__balance += amount\n",
    "        else:\n",
    "            raise ValueError(\"More than 0\")\n",
    "\n",
    "    def withdraw(self, amount):\n",
    "        if 0 < amount <= self.__balance:\n",
    "            self.__balance -= amount\n",
    "        else:\n",
    "            raise ValueError(\"No money or mistake was made\")\n",
    "\n",
    "wallet = EWallet(1000)\n",
    "print(f\"Balance: ${wallet.balance}\")\n",
    "\n",
    "wallet.deposit(500)\n",
    "print(f\"Balance after deposit: ${wallet.balance}\")\n",
    "\n",
    "wallet.withdraw(100)\n",
    "print(f\"Balance after withdrawal: ${wallet.balance}\")"
   ]
  },
  {
   "cell_type": "markdown",
   "metadata": {
    "id": "tIzL2SJTM8ft"
   },
   "source": [
    "9. (11б). Створіть клас ShoppingCart, який містить список об'єктів типу Item. Реалізуйте методи для додавання айтемів, їх видалення та відображення списку айтемів."
   ]
  },
  {
   "cell_type": "code",
   "execution_count": 16,
   "metadata": {
    "ExecuteTime": {
     "end_time": "2025-03-18T13:56:52.039508Z",
     "start_time": "2025-03-18T13:56:52.033031Z"
    },
    "id": "HWxfJKLtNAUZ"
   },
   "outputs": [
    {
     "name": "stdout",
     "output_type": "stream",
     "text": [
      "Bicycle: $2500.00\n",
      "Teddy Bear: $100.00\n",
      "Teddy Bear: $100.00\n"
     ]
    }
   ],
   "source": [
    "class Item:\n",
    "    def __init__(self, name, price):\n",
    "        self.name = name\n",
    "        self.price = price\n",
    "\n",
    "    def __str__(self):\n",
    "        return f\"{self.name}: ${self.price:.2f}\"\n",
    "\n",
    "class ShoppingCart:\n",
    "    def __init__(self):\n",
    "        self.items = []\n",
    "\n",
    "    def add_item(self, item):\n",
    "        self.items.append(item)\n",
    "\n",
    "    def remove_item(self, item_name):\n",
    "        self.items = [item for item in self.items if item.name != item_name]\n",
    "\n",
    "    def show_items(self):\n",
    "        return \"\\n\".join(str(item) for item in self.items) if self.items else \"Cart is empty\"\n",
    "\n",
    "cart = ShoppingCart()\n",
    "item1 = Item(\"Bicycle\", 2500)\n",
    "item2 = Item(\"Teddy Bear\", 100)\n",
    "\n",
    "cart.add_item(item1)\n",
    "cart.add_item(item2)\n",
    "\n",
    "print(cart.show_items())\n",
    "\n",
    "cart.remove_item(\"Bicycle\")\n",
    "print(cart.show_items())\n"
   ]
  },
  {
   "cell_type": "markdown",
   "metadata": {
    "id": "lmV8pAwwNIqu"
   },
   "source": [
    "10. (13б). Створіть клас Vehicle з атрибутами brand (manufacturer) та production_age. Створіть ще один клас Engine з такими атрибутами, як type (ex. petrol) та size (volume, litres). Створіть клас Car, який успадковує обидва класи Vehicle та Engine. Продемонструйте використання множинної спадковості, створивши обʼєкт класу Car та отримавши mro для цього класу."
   ]
  },
  {
   "cell_type": "code",
   "execution_count": 20,
   "metadata": {
    "ExecuteTime": {
     "end_time": "2025-03-18T14:03:17.080231Z",
     "start_time": "2025-03-18T14:03:17.073856Z"
    },
    "id": "R49grKlWNPeN"
   },
   "outputs": [
    {
     "name": "stdout",
     "output_type": "stream",
     "text": [
      "Car: Lamborgini, Age: 6 years, Engine: Petrol, 6.0L\n",
      "[<class '__main__.Car'>, <class '__main__.Vehicle'>, <class '__main__.Engine'>, <class 'object'>]\n"
     ]
    }
   ],
   "source": [
    "class Vehicle:\n",
    "    def __init__(self, brand, production_age):\n",
    "        self.brand = brand\n",
    "        self.production_age = production_age\n",
    "\n",
    "class Engine:\n",
    "    def __init__(self, engine_type, size):\n",
    "        self.engine_type = engine_type\n",
    "        self.size = size\n",
    "\n",
    "class Car(Vehicle, Engine):\n",
    "    def __init__(self, brand, production_age, engine_type, size):\n",
    "        Vehicle.__init__(self, brand, production_age)\n",
    "        Engine.__init__(self, engine_type, size)\n",
    "\n",
    "    def get_info(self):\n",
    "        return f\"Car: {self.brand}, Age: {self.production_age} years, Engine: {self.engine_type}, {self.size}L\"\n",
    "\n",
    "car = Car(\"Lamborgini\", 6, \"Petrol\", 6.0)\n",
    "\n",
    "print(car.get_info())\n",
    "print(Car.mro())\n"
   ]
  },
  {
   "cell_type": "markdown",
   "metadata": {
    "id": "dIJyUiNBFG8G"
   },
   "source": [
    "# II. Iterator"
   ]
  },
  {
   "cell_type": "markdown",
   "metadata": {
    "id": "13vsm0NyKIzL"
   },
   "source": [
    "11. (4б). Визначте рядок(str) з 4ма різними за значенням символами. Створіть ітератор на основі цього рядка. Викличте 5 разів функцію next на ітераторі, 4ри перших з них огорніть у ф-цію print()."
   ]
  },
  {
   "cell_type": "code",
   "execution_count": 21,
   "metadata": {
    "ExecuteTime": {
     "end_time": "2025-03-18T13:55:38.791395Z",
     "start_time": "2025-03-18T13:55:38.774645Z"
    },
    "id": "81ntabAkKuz-"
   },
   "outputs": [
    {
     "name": "stdout",
     "output_type": "stream",
     "text": [
      "a\n",
      "b\n",
      "c\n",
      "d\n"
     ]
    },
    {
     "ename": "StopIteration",
     "evalue": "",
     "output_type": "error",
     "traceback": [
      "\u001b[31m---------------------------------------------------------------------------\u001b[39m",
      "\u001b[31mStopIteration\u001b[39m                             Traceback (most recent call last)",
      "\u001b[36mCell\u001b[39m\u001b[36m \u001b[39m\u001b[32mIn[21]\u001b[39m\u001b[32m, line 8\u001b[39m\n\u001b[32m      6\u001b[39m \u001b[38;5;28mprint\u001b[39m(\u001b[38;5;28mnext\u001b[39m(iterator)) \n\u001b[32m      7\u001b[39m \u001b[38;5;28mprint\u001b[39m(\u001b[38;5;28mnext\u001b[39m(iterator))  \n\u001b[32m----> \u001b[39m\u001b[32m8\u001b[39m \u001b[38;5;28mprint\u001b[39m(\u001b[38;5;28;43mnext\u001b[39;49m\u001b[43m(\u001b[49m\u001b[43miterator\u001b[49m\u001b[43m)\u001b[49m)  \u001b[38;5;66;03m# StopIteration \u001b[39;00m\n",
      "\u001b[31mStopIteration\u001b[39m: "
     ]
    }
   ],
   "source": [
    "s = \"abcd\"\n",
    "iterator = iter(s)\n",
    "\n",
    "print(next(iterator)) \n",
    "print(next(iterator)) \n",
    "print(next(iterator)) \n",
    "print(next(iterator))  \n",
    "print(next(iterator))  # StopIteration "
   ]
  },
  {
   "cell_type": "markdown",
   "metadata": {
    "id": "aekWHGXOLRsO"
   },
   "source": [
    "А що якщо викликати цю ж функцію на рядку?"
   ]
  },
  {
   "cell_type": "code",
   "execution_count": 22,
   "metadata": {
    "ExecuteTime": {
     "end_time": "2025-03-18T13:56:08.924246Z",
     "start_time": "2025-03-18T13:56:08.909438Z"
    },
    "id": "mxATGsErLV1i"
   },
   "outputs": [
    {
     "ename": "TypeError",
     "evalue": "'str' object is not an iterator",
     "output_type": "error",
     "traceback": [
      "\u001b[31m---------------------------------------------------------------------------\u001b[39m",
      "\u001b[31mTypeError\u001b[39m                                 Traceback (most recent call last)",
      "\u001b[36mCell\u001b[39m\u001b[36m \u001b[39m\u001b[32mIn[22]\u001b[39m\u001b[32m, line 2\u001b[39m\n\u001b[32m      1\u001b[39m s = \u001b[33m\"\u001b[39m\u001b[33mabcd\u001b[39m\u001b[33m\"\u001b[39m\n\u001b[32m----> \u001b[39m\u001b[32m2\u001b[39m \u001b[38;5;28mprint\u001b[39m(\u001b[38;5;28;43mnext\u001b[39;49m\u001b[43m(\u001b[49m\u001b[43ms\u001b[49m\u001b[43m)\u001b[49m)\n",
      "\u001b[31mTypeError\u001b[39m: 'str' object is not an iterator"
     ]
    }
   ],
   "source": [
    "s = \"abcd\"\n",
    "print(next(s))"
   ]
  },
  {
   "cell_type": "markdown",
   "metadata": {
    "id": "XwtMEopwJ4pH"
   },
   "source": [
    " 12. (5б). Опишіть своїми словами в одному реченні, як ви розумієте різницю між ітерабельними обʼєктами та ітераторами (можна на прикладі)."
   ]
  },
  {
   "cell_type": "markdown",
   "metadata": {
    "id": "-sHrODc3KFn8"
   },
   "source": [
    "Ітерабельний — це те, по чому можна пройти (наприклад, список), а ітератор — це обʼєкт, який памʼятає, на чому зупинився під час проходу (iter(list) → ітератор)."
   ]
  },
  {
   "cell_type": "markdown",
   "metadata": {
    "id": "E9qJWmNbK8Gl"
   },
   "source": [
    "13. (11б). Створіть клас, що має визначений Iterator Protocol та при кожному виклику next повертає назву дня тижня, поки вони не вичерпаються. Зверніть увагу, що порядок має значення."
   ]
  },
  {
   "cell_type": "code",
   "execution_count": 10,
   "metadata": {
    "ExecuteTime": {
     "end_time": "2025-03-18T13:55:08.372344Z",
     "start_time": "2025-03-18T13:55:08.367337Z"
    },
    "id": "cqx-g_RsLo6I"
   },
   "outputs": [
    {
     "name": "stdout",
     "output_type": "stream",
     "text": [
      "Monday\n",
      "Tuesday\n",
      "Wednesday\n",
      "Thursday\n",
      "Friday\n",
      "Saturday\n",
      "Sunday\n"
     ]
    }
   ],
   "source": [
    "class WeekdaysIterator:\n",
    "    def __init__(self):\n",
    "        self.days = [\"Monday\", \"Tuesday\", \"Wednesday\", \"Thursday\", \"Friday\", \"Saturday\", \"Sunday\"]\n",
    "        self.index = 0\n",
    "\n",
    "    def __iter__(self):\n",
    "        return self\n",
    "\n",
    "    def __next__(self):\n",
    "        if self.index < len(self.days):\n",
    "            day = self.days[self.index]\n",
    "            self.index += 1\n",
    "            return day\n",
    "        raise StopIteration\n",
    "\n",
    "week_iterator = WeekdaysIterator()\n",
    "\n",
    "for day in week_iterator:\n",
    "    print(day)"
   ]
  },
  {
   "cell_type": "markdown",
   "metadata": {
    "id": "Z3E3S_s1Fv7-"
   },
   "source": [
    "# Вітаю! Ви велика(ий) молодець, що впоралась(вся). Похваліть себе та побалуйте чимось приємним. Я Вами пишаюся."
   ]
  }
 ],
 "metadata": {
  "colab": {
   "provenance": []
  },
  "kernelspec": {
   "display_name": "Python 3",
   "language": "python",
   "name": "python3"
  },
  "language_info": {
   "codemirror_mode": {
    "name": "ipython",
    "version": 3
   },
   "file_extension": ".py",
   "mimetype": "text/x-python",
   "name": "python",
   "nbconvert_exporter": "python",
   "pygments_lexer": "ipython3",
   "version": "3.13.2"
  }
 },
 "nbformat": 4,
 "nbformat_minor": 0
}
